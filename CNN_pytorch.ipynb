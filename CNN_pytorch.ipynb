{
  "nbformat": 4,
  "nbformat_minor": 0,
  "metadata": {
    "colab": {
      "name": "CNN_pytorch.ipynb",
      "provenance": [],
      "collapsed_sections": [],
      "authorship_tag": "ABX9TyOIZc6R10ajOzotoQwXFBoQ",
      "include_colab_link": true
    },
    "kernelspec": {
      "name": "python3",
      "display_name": "Python 3"
    },
    "language_info": {
      "name": "python"
    }
  },
  "cells": [
    {
      "cell_type": "markdown",
      "metadata": {
        "id": "view-in-github",
        "colab_type": "text"
      },
      "source": [
        "<a href=\"https://colab.research.google.com/github/thedataninja1786/Machine-Learning/blob/main/CNN_pytorch.ipynb\" target=\"_parent\"><img src=\"https://colab.research.google.com/assets/colab-badge.svg\" alt=\"Open In Colab\"/></a>"
      ]
    },
    {
      "cell_type": "code",
      "metadata": {
        "id": "e9hiZFtpVfgX"
      },
      "source": [
        "import torch \n",
        "import torch.nn as nn \n",
        "import torch.nn.functional as F \n",
        "import torchvision \n",
        "import torchvision.transforms as transforms \n",
        "import matplotlib.pyplot as plt \n",
        "import numpy as np \n",
        "from google.colab import drive \n",
        "drive.mount('/content/drive')"
      ],
      "execution_count": null,
      "outputs": []
    },
    {
      "cell_type": "code",
      "metadata": {
        "id": "bpbq0bNtVwbJ"
      },
      "source": [
        "#Hyperparameters \n",
        "epochs = 5 \n",
        "batch_size = 4 \n",
        "learning_rate = 0.001 "
      ],
      "execution_count": 3,
      "outputs": []
    },
    {
      "cell_type": "code",
      "metadata": {
        "id": "DozSMsl5WjBs"
      },
      "source": [
        "#dataset has PILImage images of range [0,1]\n",
        "#Transorm them to tensors of normalized range [-1,1]\n",
        "transform = transforms.Compose([transforms.ToTensor(), transforms.Normalize((0.5,0.5,0.5),(0.5,0.5,0.5))])"
      ],
      "execution_count": 10,
      "outputs": []
    },
    {
      "cell_type": "code",
      "metadata": {
        "id": "OvsrWOXAXmhi"
      },
      "source": [
        "# CIFAR10: 60000 32x32 color images in 10 classes, with 6000 images per class\n",
        "\n",
        "train_dataset = torchvision.datasets.CIFAR10(root='/content/drive/MyDrive/CIFAR10', train = True, download = True, transform = transform)\n",
        "\n",
        "test_dataset = torchvision.datasets.CIFAR10(root='/content/drive/MyDrive/CIFAR10', train = False, download = True, transform = transform)\n",
        " \n",
        "train_loader = torch.utils.data.DataLoader(train_dataset, batch_size = batch_size, shuffle = True)\n",
        "\n",
        "test_loader = torch.utils.data.DataLoader(test_dataset, batch_size = batch_size, shuffle = False)"
      ],
      "execution_count": null,
      "outputs": []
    },
    {
      "cell_type": "code",
      "metadata": {
        "id": "TcW544JUY9hD"
      },
      "source": [
        "classes = ('plane', 'car', 'bird', 'cat', 'deer', 'dog', 'frog', 'horse', 'ship', 'truck')"
      ],
      "execution_count": null,
      "outputs": []
    },
    {
      "cell_type": "code",
      "metadata": {
        "id": "DHPbLnWUZSGj"
      },
      "source": [
        "#Create the CNN \n",
        "class CNN(nn.Module):\n",
        "  def __init__(self):\n",
        "    super(CNN,self).__init__()\n",
        "    '''nout = [width + 2padding - kernel_size) / stride] + 1 '''\n",
        "    # [4,3,32,32]\n",
        "    self.conv1 = nn.Conv2d(in_channels = 3, out_channels = 6, kernel_size = 5) # in channels is 3 since we are using colored imgs, out_channels = outputs 6 convolutional features (selected at random) \n",
        "    # [4,6,28,28]\n",
        "    self.pool1 = nn.MaxPool2d(2,2) #reduces the images by a factor of 2\n",
        "    # [4,6,14,14]\n",
        "    self.conv2 = nn.Conv2d(in_channels = 6, out_channels = 16, kernel_size = 5)\n",
        "    # [4,16,10,10]\n",
        "    self.pool2 = nn.MaxPool2d(2,2)\n",
        "    # [4,16,5,5] which becomes the input of the fully connected layer \n",
        "    self.fc1 = nn.Linear(in_features = (16 * 5 * 5), out_features = 120) # (120 neurons selected at random)\n",
        "    self.fc2 = nn.Linear(in_features = 120, out_features = 84) # 84 selected at random \n",
        "    self.fc3 = nn.Linear(in_features = 84, out_features = 10) #final layer, output will be 10 same as the number of classes \n",
        "\n",
        "  def forward(self, x):\n",
        "    # where n refers to the batch_size \n",
        "    # -> n, 3, 32, 32\n",
        "    x = self.pool1(F.relu(self.conv1(x)))  # -> n, 6, 14, 14\n",
        "    x = self.pool2(F.relu(self.conv2(x)))  # -> n, 16, 5, 5\n",
        "    x = x.view(-1, 16 * 5 * 5)            # -> n, 400\n",
        "    x = F.relu(self.fc1(x))               # -> n, 120\n",
        "    x = F.relu(self.fc2(x))               # -> n, 84\n",
        "    x = self.fc3(x)                       # -> n, 10\n",
        "    return x"
      ],
      "execution_count": 31,
      "outputs": []
    },
    {
      "cell_type": "code",
      "metadata": {
        "id": "mTnpMGv8mi9j"
      },
      "source": [
        "model = CNN()\n",
        "loss_function = nn.CrossEntropyLoss() #includes the softmax activation function \n",
        "optimizer = torch.optim.SGD(model.parameters(), lr = learning_rate)\n",
        "\n",
        "n_total_steps = len(train_loader)\n",
        "for epoch in range(epochs):\n",
        "  n_correct = 0\n",
        "  n_samples = 0\n",
        "  for i, (images, labels) in enumerate(train_loader):\n",
        "    # Forward pass\n",
        "    outputs = model(images)\n",
        "    _, predicted = torch.max(outputs, 1)\n",
        "    n_samples += labels.size(0)\n",
        "    n_correct += (predicted == labels).sum().item()\n",
        "\n",
        "    loss = loss_function(outputs, labels)\n",
        "    # Backpropagation and optimization \n",
        "    optimizer.zero_grad() #empty gradients \n",
        "    loss.backward()\n",
        "    optimizer.step()\n",
        "\n",
        "    acc = 100.0 * n_correct / n_samples\n",
        "\n",
        "    if (i+1) % 2000 == 0:\n",
        "      print(f'Epoch [{epoch+1}/{epochs}], Step [{i+1}/{n_total_steps}], Accuracy: {round(acc,2)} %, Loss: {loss.item():.4f}')\n",
        "print('Done!!')\n",
        "\n"
      ],
      "execution_count": null,
      "outputs": []
    },
    {
      "cell_type": "code",
      "metadata": {
        "colab": {
          "base_uri": "https://localhost:8080/"
        },
        "id": "jPGl80t2ruym",
        "outputId": "314befff-a082-485d-889f-fed87749fbbc"
      },
      "source": [
        "with torch.no_grad():\n",
        "  n_correct = 0\n",
        "  n_samples = 0\n",
        "  n_class_correct = [0 for i in range(10)]\n",
        "  n_class_samples = [0 for i in range(10)]\n",
        "  for images, labels in test_loader:\n",
        "    outputs = model(images)\n",
        "    # max returns (value ,index)\n",
        "    _, predicted = torch.max(outputs, 1)\n",
        "    n_samples += labels.size(0)\n",
        "    n_correct += (predicted == labels).sum().item() \n",
        "    \n",
        "    for i in range(batch_size):\n",
        "      label = labels[i]\n",
        "      pred = predicted[i]\n",
        "      if (label == pred):\n",
        "          n_class_correct[label] += 1 #counts correct answers \n",
        "      n_class_samples[label] += 1 #counts occurrences of each class \n",
        "\n",
        "  acc = 100.0 * n_correct / n_samples\n",
        "  print(f'Accuracy of the network: {acc} %')\n",
        "\n",
        "  for i in range(10):\n",
        "    acc = 100.0 * n_class_correct[i] / n_class_samples[i]\n",
        "    print(f'Accuracy of {classes[i]}: {acc} %')\n"
      ],
      "execution_count": 42,
      "outputs": [
        {
          "output_type": "stream",
          "text": [
            "Accuracy of the network: 47.83 %\n",
            "Accuracy of plane: 55.7 %\n",
            "Accuracy of car: 55.9 %\n",
            "Accuracy of bird: 26.7 %\n",
            "Accuracy of cat: 18.2 %\n",
            "Accuracy of deer: 37.7 %\n",
            "Accuracy of dog: 43.6 %\n",
            "Accuracy of frog: 65.4 %\n",
            "Accuracy of horse: 63.3 %\n",
            "Accuracy of ship: 50.4 %\n",
            "Accuracy of truck: 61.4 %\n"
          ],
          "name": "stdout"
        }
      ]
    }
  ]
}
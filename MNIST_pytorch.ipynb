{
  "nbformat": 4,
  "nbformat_minor": 0,
  "metadata": {
    "colab": {
      "name": "MNIST_pytorch.ipynb",
      "provenance": [],
      "collapsed_sections": [],
      "authorship_tag": "ABX9TyNpGgzR3+rjI+1XVnX7sU5/"
    },
    "kernelspec": {
      "name": "python3",
      "display_name": "Python 3"
    },
    "language_info": {
      "name": "python"
    }
  },
  "cells": [
    {
      "cell_type": "code",
      "metadata": {
        "colab": {
          "base_uri": "https://localhost:8080/"
        },
        "id": "5ysMBHsuUO3R",
        "outputId": "680d4a36-6588-4236-c43c-e1a865d6f309"
      },
      "source": [
        "import torch \n",
        "import torch.nn as nn \n",
        "import torchvision \n",
        "import torchvision.transforms as transforms  \n",
        "import matplotlib.pyplot as plt \n",
        "from google.colab import drive\n",
        "import torch.nn.functional as F\n",
        "drive.mount('/content/drive')"
      ],
      "execution_count": 34,
      "outputs": [
        {
          "output_type": "stream",
          "text": [
            "Drive already mounted at /content/drive; to attempt to forcibly remount, call drive.mount(\"/content/drive\", force_remount=True).\n"
          ],
          "name": "stdout"
        }
      ]
    },
    {
      "cell_type": "code",
      "metadata": {
        "id": "XqRyU3djUdPv"
      },
      "source": [
        "#Download MNIST datase  \n",
        "train_data = torchvision.datasets.MNIST(root = '/content/drive/MyDrive/MNIST',transform=transforms.ToTensor(),train = True, download=True)\n",
        "test_data = torchvision.datasets.MNIST(root = '/content/drive/MyDrive/MNIST',transform=transforms.ToTensor(),train = False)\n",
        "train_data"
      ],
      "execution_count": null,
      "outputs": []
    },
    {
      "cell_type": "code",
      "metadata": {
        "id": "0I406dnqXnUt"
      },
      "source": [
        "#Defining hyperparameters \n",
        "input_size = 784 # 28x28\n",
        "hidden_size = 500 \n",
        "num_classes = 10\n",
        "epochs = 3\n",
        "batch_size = 100\n",
        "learning_rate = 0.001\n",
        "\n"
      ],
      "execution_count": 48,
      "outputs": []
    },
    {
      "cell_type": "code",
      "metadata": {
        "id": "8TKs4tqLW2Jz"
      },
      "source": [
        "#Data Loader\n",
        "'''Splits the training data in elements based on the batch size.''' #datapoints / batch_size = 60000 / 100 = 600 elements \n",
        "'''Each element is a list of two elements, the features and their labels. Size of each element is the specified batch size''' #100 images per element  \n",
        "train_loader = torch.utils.data.DataLoader(dataset=train_data, batch_size = batch_size, shuffle = True) #shuffle = True helps the model generalize\n",
        "test_loader = torch.utils.data.DataLoader(dataset=train_data, batch_size = batch_size, shuffle = False) #shuffle = False for comparing the labels against the predictions \n"
      ],
      "execution_count": 47,
      "outputs": []
    },
    {
      "cell_type": "code",
      "metadata": {
        "id": "YyTNJqtybeab"
      },
      "source": [
        "#Fully connected NN with one hidden layer \n",
        "class NN(nn.Module):\n",
        "  def __init__(self,input_size, hidden_size, num_classes):\n",
        "    super(NN, self).__init__()\n",
        "    self.input_size = input_size\n",
        "    self.l1 = nn.Linear(input_size, hidden_size) # input_size = flatten img \n",
        "    self.relu = nn.ReLU()\n",
        "    self.l2 = nn.Linear(hidden_size, num_classes) #takes as input the output(hidden_size of the previous layer)\n",
        "\n",
        "  def forward(self,x):\n",
        "    out = self.l1(x)\n",
        "    out = self.relu(out)\n",
        "    out = self.l2(out)\n",
        "    # no activation and no softmax at the end \n",
        "    return out \n",
        "\n",
        "model = NN(input_size = input_size, hidden_size = hidden_size, num_classes = num_classes)\n",
        "\n",
        "#Loss and optimizer \n",
        "loss_fucntion = nn.CrossEntropyLoss()\n",
        "optimizer = torch.optim.Adam(model.parameters(), lr = learning_rate)"
      ],
      "execution_count": 49,
      "outputs": []
    },
    {
      "cell_type": "code",
      "metadata": {
        "id": "4lO3OdYTpHB8"
      },
      "source": [
        "#Training the model \n",
        "n_total_steps  = len(train_loader)\n",
        "for epoch in range(epochs): #iterates over the number of epochs \n",
        "  for i, (images, labels) in enumerate(train_loader): #iterates for each element in the train_loader \n",
        "    # original shape: [100, 1, 28 ,28] a batch of 100 gray images 28 * 28 \n",
        "    # flattend shape: [100, 784]\n",
        "    images = images.reshape(-1, 28*28)\n",
        "\n",
        "    # Forward pass \n",
        "    outputs = model(images)\n",
        "    loss = loss_fucntion(outputs, labels)\n",
        "\n",
        "    #Backwards and optimize \n",
        "    optimizer.zero_grad() #empty the gradient \n",
        "    loss.backward()\n",
        "    optimizer.step()\n",
        "\n",
        "    if (i+1) % 100 == 0:\n",
        "      print (f'Epoch [{epoch+1}/{num_epochs}], Step [{i+1}/{n_total_steps}], Loss: {loss.item():.4f}')"
      ],
      "execution_count": null,
      "outputs": []
    },
    {
      "cell_type": "code",
      "metadata": {
        "colab": {
          "base_uri": "https://localhost:8080/"
        },
        "id": "dWb6MjuUrv5i",
        "outputId": "cd1585c5-2a72-492f-86f0-3ad3e7200b35"
      },
      "source": [
        "#Testing the model \n",
        "#Backpropagation is not necessary on the testing phase, so don't need to compute the gradients \n",
        "with torch.no_grad():\n",
        "  n_correct = 0 \n",
        "  n_samples = 0 \n",
        "  for images, labels in test_loader:\n",
        "    images = images.reshape(-1, 28*28)\n",
        "    outputs = model(images)\n",
        "    # max returns (value, index)\n",
        "    _, predicted = torch.max(outputs.data, 1)\n",
        "    n_samples += labels.size(0) #count the number of samples \n",
        "    n_correct += (predicted == labels).sum().item() #count all the predictions that match the labels \n",
        "\n",
        "  acc = 100.0 * n_correct / n_samples\n",
        "  print(f'Accuracy of the network on the 10000 test images: {acc} %')"
      ],
      "execution_count": 54,
      "outputs": [
        {
          "output_type": "stream",
          "text": [
            "Accuracy of the network on the 10000 test images: 98.585 %\n"
          ],
          "name": "stdout"
        }
      ]
    }
  ]
}